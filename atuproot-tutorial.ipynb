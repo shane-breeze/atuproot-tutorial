{
 "cells": [
  {
   "cell_type": "markdown",
   "metadata": {},
   "source": [
    "# AtUproot - tutorial"
   ]
  },
  {
   "cell_type": "markdown",
   "metadata": {},
   "source": [
    "## Dependencies"
   ]
  },
  {
   "cell_type": "code",
   "execution_count": 1,
   "metadata": {},
   "outputs": [
    {
     "name": "stdout",
     "output_type": "stream",
     "text": [
      "Requirement already satisfied: numpy in /cvmfs/sft.cern.ch/lcg/views/LCG_93/x86_64-slc6-gcc62-opt/lib/python2.7/site-packages\n",
      "Requirement already satisfied: icc-rt in /eos/user/s/sbreeze/.local/lib/python2.7/site-packages\n",
      "Requirement already satisfied: numba in /eos/user/s/sbreeze/.local/lib/python2.7/site-packages\n",
      "Requirement already satisfied: alphatwirl==0.16.0 in /eos/user/s/sbreeze/.local/lib/python2.7/site-packages\n",
      "Requirement already satisfied: pandas in /cvmfs/sft.cern.ch/lcg/views/LCG_93/x86_64-slc6-gcc62-opt/lib/python2.7/site-packages\n",
      "Requirement already satisfied: pyyaml in /cvmfs/sft.cern.ch/lcg/views/LCG_93/x86_64-slc6-gcc62-opt/lib/python2.7/site-packages\n",
      "Requirement already satisfied: uproot in /eos/user/s/sbreeze/.local/lib/python2.7/site-packages\n",
      "Requirement already satisfied: intel-openmp==2018.0.3 in /eos/user/s/sbreeze/.local/lib/python2.7/site-packages (from icc-rt)\n",
      "Requirement already satisfied: funcsigs in /cvmfs/sft.cern.ch/lcg/views/LCG_93/x86_64-slc6-gcc62-opt/lib/python2.7/site-packages (from numba)\n",
      "Requirement already satisfied: singledispatch in /cvmfs/sft.cern.ch/lcg/views/LCG_93/x86_64-slc6-gcc62-opt/lib/python2.7/site-packages (from numba)\n",
      "Requirement already satisfied: enum34 in /cvmfs/sft.cern.ch/lcg/views/LCG_93/x86_64-slc6-gcc62-opt/lib/python2.7/site-packages (from numba)\n",
      "Requirement already satisfied: llvmlite>=0.24.0dev0 in /eos/user/s/sbreeze/.local/lib/python2.7/site-packages (from numba)\n",
      "Requirement already satisfied: python-dateutil in /cvmfs/sft.cern.ch/lcg/views/LCG_93/x86_64-slc6-gcc62-opt/lib/python2.7/site-packages (from pandas)\n",
      "Requirement already satisfied: pytz>=2011k in /cvmfs/sft.cern.ch/lcg/views/LCG_93/x86_64-slc6-gcc62-opt/lib/python2.7/site-packages (from pandas)\n",
      "Requirement already satisfied: six in /cvmfs/sft.cern.ch/lcg/views/LCG_93/x86_64-slc6-gcc62-opt/lib/python2.7/site-packages (from singledispatch->numba)\n",
      "\u001b[33mYou are using pip version 9.0.1, however version 18.0 is available.\n",
      "You should consider upgrading via the 'pip install --upgrade pip' command.\u001b[0m\n"
     ]
    }
   ],
   "source": [
    "!pip install --user numpy icc-rt numba alphatwirl==0.16.0 pandas pyyaml uproot"
   ]
  },
  {
   "cell_type": "code",
   "execution_count": 2,
   "metadata": {},
   "outputs": [],
   "source": [
    "from __future__ import print_function\n",
    "import numpy as np\n",
    "import uproot\n",
    "from numba import njit, boolean"
   ]
  },
  {
   "cell_type": "markdown",
   "metadata": {},
   "source": [
    "## Concept\n",
    "\n",
    "Take alphatwirl's `BEvents` and change the concept of `events` to `blocks` of events. The `tree` object becomes an `uproot.tree` with `__getattr__` using `uproot.tree.array` to an event attribute for a block of events. The array is then cached for further use"
   ]
  },
  {
   "cell_type": "code",
   "execution_count": 10,
   "metadata": {},
   "outputs": [],
   "source": [
    "def _get_branch(self, name):\n",
    "    if name in self._branch_cache:\n",
    "        branch = self._branch_cache[name]\n",
    "    else:\n",
    "        self.entrystart = self.iBlock * self.blocksize\n",
    "        self.entrystop = min((self.iBlock+1) * self.blocksize, self.nEvents)\n",
    "        self.size = self.entrystop - self.entrystart\n",
    "        branch = self.tree.array(name,\n",
    "                                 entrystart = self.entrystart,\n",
    "                                 entrystop = self.entrystop)\n",
    "        self._branch_cache[name] = branch\n",
    "    return branch"
   ]
  },
  {
   "cell_type": "markdown",
   "metadata": {},
   "source": [
    "Iteration over the `BEvents` would be over blocks rather than events. The `_branch_cache` is cleared on each iteration of the loop to clear space in memory and for the new events to be read in"
   ]
  },
  {
   "cell_type": "code",
   "execution_count": 11,
   "metadata": {},
   "outputs": [],
   "source": [
    "def __iter__(self):\n",
    "    for self.iBlock in range(self.nBlocks):\n",
    "        self._branch_cache = {}\n",
    "        yield self\n",
    "    self.iBlock = -1"
   ]
  },
  {
   "cell_type": "markdown",
   "metadata": {},
   "source": [
    "`EventBuilder` and `EventBuilderConfigMaker` are adjusted to accommodate the new `BEvents`\n",
    "\n",
    "`AtUproot` is the interface to use `alphatwirl` with the new `BEvents`\n",
    "\n",
    "`Dataset` is updated just for my own personal use\n",
    "\n",
    "Readers are coded in the same way, but the implementation must accommodate the array / JaggedArray format of branches. My choice of implementation is to pass the content, starts and stops of Jagged arrays to a function for jit with numba. Numba can speedup for loops to the same speed as normal numpy functions. However, they are very flexible and quick to write / understand (which I struggle with sometimes with a chain of numpy commands)"
   ]
  },
  {
   "cell_type": "markdown",
   "metadata": {},
   "source": [
    "### Certified lumi checker"
   ]
  },
  {
   "cell_type": "code",
   "execution_count": 12,
   "metadata": {},
   "outputs": [],
   "source": [
    "@njit\n",
    "def is_certified_lumi(runs, lumis, cert_runs, cert_lumis):\n",
    "    nev = runs.shape[0]\n",
    "    is_certified = np.ones(nev, dtype=boolean)\n",
    "\n",
    "    for iev in range(nev):\n",
    "        # run not in list, skip\n",
    "        passed = False\n",
    "        for irun in range(cert_runs.shape[0]):\n",
    "            if runs[iev] != cert_runs[irun]:\n",
    "                continue\n",
    "\n",
    "            cert_lumi_range = cert_lumis[irun]\n",
    "            for ibin in range(cert_lumi_range.shape[0]):\n",
    "                if cert_lumi_range[ibin,0] <= lumis[iev] <= cert_lumi_range[ibin,1]:\n",
    "                    passed = True\n",
    "                    break\n",
    "\n",
    "            if passed:\n",
    "                break\n",
    "        is_certified[iev] = passed\n",
    "\n",
    "    return is_certified"
   ]
  },
  {
   "cell_type": "markdown",
   "metadata": {},
   "source": [
    "### Selection on Jagged array"
   ]
  },
  {
   "cell_type": "code",
   "execution_count": 13,
   "metadata": {},
   "outputs": [],
   "source": [
    "@njit\n",
    "def create_new_stops(selection, starts, lens):\n",
    "    nev = lens.shape[0]\n",
    "    new_stops = np.zeros(nev, dtype=int32)\n",
    "\n",
    "    count = 0\n",
    "    for iev in range(nev):\n",
    "        for ij in range(lens[iev]):\n",
    "            rij = starts[iev]+ij\n",
    "            if selection[rij]:\n",
    "                count += 1\n",
    "        new_stops[iev] = count\n",
    "    return new_stops\n",
    "\n",
    "def test_new_stops(self, ref_branch):\n",
    "    new_stops = create_new_stops(\n",
    "        self.selection, ref_branch.starts, ref_branch.stops-ref_branch.starts,\n",
    "    )\n",
    "    new_starts = np.roll(new_stops, 1)\n",
    "    new_starts[0] = 0\n",
    "    \n",
    "    array = uproot.interp.jagged.JaggedArray(\n",
    "        ref_branch.content[self.selection],\n",
    "        new_starts,\n",
    "        new_stops,\n",
    "    )"
   ]
  },
  {
   "cell_type": "markdown",
   "metadata": {},
   "source": [
    "## Setup\n",
    "\n",
    "Clone the repository, into branch tutorial\n",
    "\n",
    "atuproot comes with a setup script (shamelessly taken from FAST-RA1). I normally have a miniconda environment ready with everything and use that.\n",
    "\n",
    "Here we can just use SWAN's built in pip."
   ]
  },
  {
   "cell_type": "code",
   "execution_count": 14,
   "metadata": {},
   "outputs": [
    {
     "name": "stdout",
     "output_type": "stream",
     "text": [
      "fatal: destination path 'atuproot' already exists and is not an empty directory.\r\n"
     ]
    }
   ],
   "source": [
    "!git clone -b tutorial https://github.com/shane-breeze/atuproot atuproot"
   ]
  },
  {
   "cell_type": "code",
   "execution_count": 15,
   "metadata": {},
   "outputs": [],
   "source": [
    "import sys\n",
    "sys.path.append(\"atuproot/\")\n",
    "sys.path.append(\"atuproot/atuproot/\")\n",
    "sys.path.append(\"atuproot/sequence/\")"
   ]
  },
  {
   "cell_type": "markdown",
   "metadata": {},
   "source": [
    "## Run the code\n",
    "\n",
    "There is a single script to run the atuproot interface to alphatwirl:\n",
    "`python run.py --blocksize 100000 --mode multiprocessing`\n",
    "\n",
    "The following will do what's done inside the `run.py` script (without using a command line parser)"
   ]
  },
  {
   "cell_type": "code",
   "execution_count": 16,
   "metadata": {
    "scrolled": true
   },
   "outputs": [
    {
     "name": "stdout",
     "output_type": "stream",
     "text": [
      "Dataset(name = 'MET_Run2016B_v2', parent = 'MET', isdata = True, xsection = None, lumi = 5930, energy = 13000, sumweights = 35987712.0, associates = MET_Run2016B_v2)\n",
      "Dataset(name = 'ZJetsToNuNu_Pt-250To400', parent = 'ZJetsToNuNu', isdata = False, xsection = 6.219, lumi = 5930, energy = 13000, sumweights = 5163758.924870491, associates = ZJetsToNuNu_Pt-250To400)\n"
     ]
    }
   ],
   "source": [
    "from datasets.datasets import get_datasets\n",
    "datasets = get_datasets(path=\"atuproot/datasets/datasets.yaml\")\n",
    "for d in datasets:\n",
    "    print(d)"
   ]
  },
  {
   "cell_type": "code",
   "execution_count": 17,
   "metadata": {},
   "outputs": [
    {
     "name": "stdout",
     "output_type": "stream",
     "text": [
      "Welcome to JupyROOT 6.12/06\n"
     ]
    }
   ],
   "source": [
    "from atuproot.AtUproot import AtUproot\n",
    "process = AtUproot(\"output\",\n",
    "                  quiet = False,\n",
    "                  parallel_mode = \"multiprocessing\",\n",
    "                  process = 4,\n",
    "                  max_blocks_per_dataset = -1,\n",
    "                  max_blocks_per_process = -1,\n",
    "                  blocksize = 500000,\n",
    "                  profile = False,\n",
    "                  profile_out_path = \"profile.txt\")"
   ]
  },
  {
   "cell_type": "code",
   "execution_count": 18,
   "metadata": {},
   "outputs": [],
   "source": [
    "from sequence.Readers import ScribblerWrapper\n",
    "from sequence.sequence import sequence\n",
    "reader_collector_pairs = [(ScribblerWrapper(rc[0]), rc[1]) for rc in sequence]"
   ]
  },
  {
   "cell_type": "code",
   "execution_count": 19,
   "metadata": {},
   "outputs": [
    {
     "name": "stdout",
     "output_type": "stream",
     "text": [
      "<sequence.Readers.CollectionCreator.CollectionCreator object at 0x7f43e9dd9a90>\n",
      "NullCollector()\n",
      "\n",
      "<sequence.Readers.GenBosonProducer.GenBosonProducer object at 0x7f43e9f13d10>\n",
      "NullCollector()\n",
      "\n",
      "<sequence.Readers.JecVariations.JecVariations object at 0x7f43e9f13ad0>\n",
      "NullCollector()\n",
      "\n",
      "<sequence.Readers.SkimCollections.SkimCollections object at 0x7f43e9dd9b50>\n",
      "NullCollector()\n",
      "\n",
      "<sequence.Readers.ObjectCrossCleaning.ObjectCrossCleaning object at 0x7f4408193150>\n",
      "NullCollector()\n",
      "\n",
      "<sequence.Readers.ObjectCrossCleaning.ObjectCrossCleaning object at 0x7f43e9f13490>\n",
      "NullCollector()\n",
      "\n",
      "<sequence.Readers.EventSumsProducer.EventSumsProducer object at 0x7f43e9f13c50>\n",
      "NullCollector()\n",
      "\n",
      "<sequence.Readers.InvMassProducer.InvMassProducer object at 0x7f43e9f13cd0>\n",
      "NullCollector()\n",
      "\n",
      "<sequence.Readers.TriggerChecker.TriggerChecker object at 0x7f43f07cb150>\n",
      "NullCollector()\n",
      "\n",
      "<sequence.Readers.CertifiedLumiChecker.CertifiedLumiChecker object at 0x7f43eb7574d0>\n",
      "NullCollector()\n",
      "\n",
      "<sequence.Readers.SignalRegionBlinder.SignalRegionBlinder object at 0x7f43e9f13c90>\n",
      "NullCollector()\n",
      "\n",
      "<sequence.Readers.SelectionProducer.SelectionProducer object at 0x7f43e9f13e90>\n",
      "NullCollector()\n",
      "\n",
      "<sequence.Readers.WeightCreator.WeightCreator object at 0x7f43e9f13d50>\n",
      "NullCollector()\n",
      "\n",
      "<sequence.Readers.WeightXsLumi.WeightXsLumi object at 0x7f43e9f13d90>\n",
      "NullCollector()\n",
      "\n",
      "<sequence.Readers.WeightPileup.WeightPileup object at 0x7f43e9f13dd0>\n",
      "NullCollector()\n",
      "\n",
      "<sequence.Readers.WeightMetTrigger.WeightMetTrigger object at 0x7f43e9f13e10>\n",
      "NullCollector()\n",
      "\n",
      "<sequence.Readers.WeightMuons.WeightMuons object at 0x7f43e9f13e50>\n",
      "NullCollector()\n",
      "\n"
     ]
    }
   ],
   "source": [
    "for rc in reader_collector_pairs:\n",
    "    print(rc[0].scribbler)\n",
    "    print(rc[1])\n",
    "    print(\"\")"
   ]
  },
  {
   "cell_type": "code",
   "execution_count": 20,
   "metadata": {},
   "outputs": [
    {
     "name": "stdout",
     "output_type": "stream",
     "text": [
      "\n",
      "Fri Aug 10 12:17:53 2018\n",
      "        0 /       16 (  0.00%) MET_Run2016B_v2 \n",
      "\n",
      "Fri Aug 10 12:17:53 2018\n",
      "        0 /       16 (  0.00%) MET_Run2016B_v2 \n",
      "        0 /        6 (  0.00%) MET_Run2016B_v2 \n",
      "\n",
      "Fri Aug 10 12:17:53 2018\n",
      "        1 /       16 (  6.25%) MET_Run2016B_v2 \n",
      "        0 /        6 (  0.00%) MET_Run2016B_v2 \n",
      "        0 /       17 (  0.00%) MET_Run2016B_v2 \n",
      "\n",
      "Fri Aug 10 12:17:53 2018\n",
      "        1 /       16 (  6.25%) MET_Run2016B_v2 \n",
      "        0 /        6 (  0.00%) MET_Run2016B_v2 \n",
      "        0 /       17 (  0.00%) MET_Run2016B_v2 \n",
      "        0 /       16 (  0.00%) MET_Run2016B_v2 \n",
      "\n",
      "Fri Aug 10 12:18:59 2018\n",
      "        7 /       16 ( 43.75%) MET_Run2016B_v2 \n",
      "        5 /        6 ( 83.33%) MET_Run2016B_v2 \n",
      "        7 /       17 ( 41.18%) MET_Run2016B_v2 \n",
      "        8 /       16 ( 50.00%) MET_Run2016B_v2 \n",
      "\n",
      "Fri Aug 10 12:19:01 2018\n",
      "        6 /        6 (100.00%) MET_Run2016B_v2 \n",
      "        8 /       16 ( 50.00%) MET_Run2016B_v2 \n",
      "        8 /       17 ( 47.06%) MET_Run2016B_v2 \n",
      "        8 /       16 ( 50.00%) MET_Run2016B_v2 \n",
      "\n",
      "Fri Aug 10 12:19:08 2018\n",
      "        6 /        6 (100.00%) MET_Run2016B_v2 \n",
      "        8 /       16 ( 50.00%) MET_Run2016B_v2 \n",
      "        8 /       17 ( 47.06%) MET_Run2016B_v2 \n",
      "        9 /       16 ( 56.25%) MET_Run2016B_v2 \n",
      "        0 /       19 (  0.00%) MET_Run2016B_v2 \n",
      "\n",
      "Fri Aug 10 12:20:05 2018\n",
      "        6 /        6 (100.00%) MET_Run2016B_v2 \n",
      "       16 /       16 (100.00%) MET_Run2016B_v2 \n",
      "       16 /       17 ( 94.12%) MET_Run2016B_v2 \n",
      "       15 /       16 ( 93.75%) MET_Run2016B_v2 \n",
      "        7 /       19 ( 36.84%) MET_Run2016B_v2 \n",
      "\n",
      "Fri Aug 10 12:20:06 2018\n",
      "        6 /        6 (100.00%) MET_Run2016B_v2 \n",
      "       16 /       16 (100.00%) MET_Run2016B_v2 \n",
      "       16 /       16 (100.00%) MET_Run2016B_v2 \n",
      "       16 /       17 ( 94.12%) MET_Run2016B_v2 \n",
      "        7 /       19 ( 36.84%) MET_Run2016B_v2 \n",
      "\n",
      "Fri Aug 10 12:20:08 2018\n",
      "        6 /        6 (100.00%) MET_Run2016B_v2 \n",
      "       16 /       16 (100.00%) MET_Run2016B_v2 \n",
      "       16 /       16 (100.00%) MET_Run2016B_v2 \n",
      "       16 /       17 ( 94.12%) MET_Run2016B_v2 \n",
      "        8 /       19 ( 42.11%) MET_Run2016B_v2 \n",
      "        0 /        3 (  0.00%) ZJetsToNuNu_Pt-250To400 \n",
      "\n",
      "Fri Aug 10 12:20:12 2018\n",
      "        6 /        6 (100.00%) MET_Run2016B_v2 \n",
      "       16 /       16 (100.00%) MET_Run2016B_v2 \n",
      "       16 /       16 (100.00%) MET_Run2016B_v2 \n",
      "       17 /       17 (100.00%) MET_Run2016B_v2 \n",
      "        8 /       19 ( 42.11%) MET_Run2016B_v2 \n",
      "        1 /        3 ( 33.33%) ZJetsToNuNu_Pt-250To400 \n",
      "\n",
      "Fri Aug 10 12:21:13 2018\n",
      "        6 /        6 (100.00%) MET_Run2016B_v2 \n",
      "       16 /       16 (100.00%) MET_Run2016B_v2 \n",
      "       16 /       16 (100.00%) MET_Run2016B_v2 \n",
      "       17 /       17 (100.00%) MET_Run2016B_v2 \n",
      "       17 /       19 ( 89.47%) MET_Run2016B_v2 \n",
      "        2 /        3 ( 66.67%) ZJetsToNuNu_Pt-250To400 \n",
      "\n",
      "Fri Aug 10 12:21:19 2018\n",
      "        6 /        6 (100.00%) MET_Run2016B_v2 \n",
      "       16 /       16 (100.00%) MET_Run2016B_v2 \n",
      "       16 /       16 (100.00%) MET_Run2016B_v2 \n",
      "       17 /       17 (100.00%) MET_Run2016B_v2 \n",
      "        3 /        3 (100.00%) ZJetsToNuNu_Pt-250To400 \n",
      "       17 /       19 ( 89.47%) MET_Run2016B_v2 \n",
      "\n",
      "Fri Aug 10 12:21:27 2018\n",
      "        6 /        6 (100.00%) MET_Run2016B_v2 \n",
      "       16 /       16 (100.00%) MET_Run2016B_v2 \n",
      "       16 /       16 (100.00%) MET_Run2016B_v2 \n",
      "       17 /       17 (100.00%) MET_Run2016B_v2 \n",
      "        3 /        3 (100.00%) ZJetsToNuNu_Pt-250To400 \n",
      "       19 /       19 (100.00%) MET_Run2016B_v2 \n",
      "\n",
      "\n",
      "Fri Aug 10 12:21:31 2018\n",
      "        6 /        6 (100.00%) MET_Run2016B_v2 \n",
      "       16 /       16 (100.00%) MET_Run2016B_v2 \n",
      "       16 /       16 (100.00%) MET_Run2016B_v2 \n",
      "       17 /       17 (100.00%) MET_Run2016B_v2 \n",
      "        3 /        3 (100.00%) ZJetsToNuNu_Pt-250To400 \n",
      "       19 /       19 (100.00%) MET_Run2016B_v2 \n",
      "       17 /       17 (100.00%) collecting results \n",
      "\n"
     ]
    }
   ],
   "source": [
    "process.run(datasets, reader_collector_pairs)"
   ]
  },
  {
   "cell_type": "markdown",
   "metadata": {},
   "source": [
    "## Event object"
   ]
  },
  {
   "cell_type": "code",
   "execution_count": 21,
   "metadata": {},
   "outputs": [],
   "source": [
    "import uproot\n",
    "from atuproot.BEvents import BEvents\n",
    "events = BEvents(uproot.open(datasets[0].files[0])[\"Events\"], blocksize=100, maxBlocks=-1, start=0)"
   ]
  },
  {
   "cell_type": "code",
   "execution_count": 22,
   "metadata": {},
   "outputs": [
    {
     "data": {
      "text/plain": [
       "jaggedarray([[ 56.        23.9375    16.984375],\n",
       "             [],\n",
       "             [ 64.5       51.59375   34.625     17.453125  17.078125],\n",
       "             ...,\n",
       "             [ 17.046875   15.6640625],\n",
       "             [ 15.2890625],\n",
       "             [ 36.40625    26.0625     19.78125    17.71875    16.34375    15.7578125]])"
      ]
     },
     "execution_count": 22,
     "metadata": {},
     "output_type": "execute_result"
    }
   ],
   "source": [
    "event = events[0]\n",
    "event.Jet_pt"
   ]
  },
  {
   "cell_type": "code",
   "execution_count": 23,
   "metadata": {},
   "outputs": [
    {
     "data": {
      "text/plain": [
       "jaggedarray([[ 190.25      103.         30.140625   25.15625    18.25    ],\n",
       "             [ 210.75      159.875      27.078125],\n",
       "             [ 216.625    86.1875   66.125  ...  20.1875     18.96875    15.8828125],\n",
       "             ...,\n",
       "             [ 273.     157.875],\n",
       "             [ 330.      191.75     43.6875 ...  21.453125   15.3203125  15.1640625],\n",
       "             []])"
      ]
     },
     "execution_count": 23,
     "metadata": {},
     "output_type": "execute_result"
    }
   ],
   "source": [
    "event = events[1]\n",
    "event.Jet_pt"
   ]
  },
  {
   "cell_type": "markdown",
   "metadata": {},
   "source": [
    "## CertifiedLumiChecker"
   ]
  },
  {
   "cell_type": "code",
   "execution_count": 24,
   "metadata": {},
   "outputs": [],
   "source": [
    "from sequence.sequence import certified_lumi_checker"
   ]
  },
  {
   "cell_type": "code",
   "execution_count": 25,
   "metadata": {},
   "outputs": [],
   "source": [
    "# %load atuproot/sequence/Readers/CertifiedLumiChecker.py\n",
    "import json\n",
    "import numpy as np\n",
    "from numba import njit, boolean\n",
    "\n",
    "class CertifiedLumiChecker(object):\n",
    "    def __init__(self, **kwargs):\n",
    "        self.__dict__.update(kwargs)\n",
    "\n",
    "    def begin(self, event):\n",
    "        self.runs, self.lumi_list = read_json(self.lumi_json_path)\n",
    "\n",
    "    def event(self, event):\n",
    "        event.IsCertified = is_certified_lumi(event.run, event.luminosityBlock,\n",
    "                                              self.runs, self.lumi_list)\n",
    "\n",
    "@njit\n",
    "def is_certified_lumi(runs, lumis, cert_runs, cert_lumis):\n",
    "    nev = runs.shape[0]\n",
    "    is_certified = np.ones(nev, dtype=boolean)\n",
    "\n",
    "    for iev in range(nev):\n",
    "        # run not in list, skip\n",
    "        passed = False\n",
    "        for irun in range(cert_runs.shape[0]):\n",
    "            if runs[iev] != cert_runs[irun]:\n",
    "                continue\n",
    "\n",
    "            cert_lumi_range = cert_lumis[irun]\n",
    "            for ibin in range(cert_lumi_range.shape[0]):\n",
    "                if cert_lumi_range[ibin,0] <= lumis[iev] <= cert_lumi_range[ibin,1]:\n",
    "                    passed = True\n",
    "                    break\n",
    "\n",
    "            if passed:\n",
    "                break\n",
    "        is_certified[iev] = passed\n",
    "\n",
    "    return is_certified\n",
    "\n",
    "def read_json(path):\n",
    "    with open(path, 'r') as f:\n",
    "        data = json.load(f)\n",
    "    runs = np.array(sorted(map(int, data.keys())))\n",
    "    lumis = [np.array(data[str(r)], dtype=int) for r in runs]\n",
    "    return runs, lumis\n"
   ]
  },
  {
   "cell_type": "code",
   "execution_count": 26,
   "metadata": {},
   "outputs": [],
   "source": [
    "certified_lumi_checker.begin(event)\n",
    "certified_lumi_checker.event(event)"
   ]
  },
  {
   "cell_type": "code",
   "execution_count": 27,
   "metadata": {},
   "outputs": [
    {
     "name": "stdout",
     "output_type": "stream",
     "text": [
      "[ True  True  True  True  True  True  True  True  True  True  True  True\n",
      "  True  True  True  True  True  True  True  True  True  True  True  True\n",
      "  True  True  True  True  True  True  True  True  True  True  True  True\n",
      "  True  True  True  True  True  True  True  True  True  True  True  True\n",
      "  True  True  True  True  True  True  True  True  True  True  True  True\n",
      "  True  True  True  True  True  True  True  True  True  True  True  True\n",
      "  True  True  True  True  True  True  True  True  True  True  True  True\n",
      "  True  True  True  True  True  True  True  True  True  True  True  True\n",
      "  True  True  True  True]\n"
     ]
    }
   ],
   "source": [
    "print(event.IsCertified)"
   ]
  },
  {
   "cell_type": "markdown",
   "metadata": {},
   "source": [
    "## Collections"
   ]
  },
  {
   "cell_type": "code",
   "execution_count": 28,
   "metadata": {},
   "outputs": [],
   "source": [
    "from sequence.sequence import collection_creator"
   ]
  },
  {
   "cell_type": "code",
   "execution_count": 29,
   "metadata": {},
   "outputs": [],
   "source": [
    "collection_creator.event(event)"
   ]
  },
  {
   "cell_type": "code",
   "execution_count": 30,
   "metadata": {},
   "outputs": [
    {
     "name": "stdout",
     "output_type": "stream",
     "text": [
      "Collection('Jet', None, None)\n"
     ]
    }
   ],
   "source": [
    "print(event.Jet) # Collection(name, ref_name, selection)"
   ]
  },
  {
   "cell_type": "code",
   "execution_count": 31,
   "metadata": {},
   "outputs": [
    {
     "name": "stdout",
     "output_type": "stream",
     "text": [
      "[[ 190.25      103.         30.140625   25.15625    18.25    ],\n",
      " [ 210.75      159.875      27.078125],\n",
      " [ 216.625    86.1875   66.125  ...  20.1875     18.96875    15.8828125],\n",
      " ...,\n",
      " [ 273.     157.875],\n",
      " [ 330.      191.75     43.6875 ...  21.453125   15.3203125  15.1640625],\n",
      " []]\n"
     ]
    }
   ],
   "source": [
    "print(event.Jet.pt)"
   ]
  },
  {
   "cell_type": "markdown",
   "metadata": {},
   "source": [
    "## Skim collections"
   ]
  },
  {
   "cell_type": "code",
   "execution_count": 32,
   "metadata": {},
   "outputs": [],
   "source": [
    "from sequence.sequence import skim_collections"
   ]
  },
  {
   "cell_type": "code",
   "execution_count": 33,
   "metadata": {},
   "outputs": [],
   "source": [
    "skim_collections.begin(event)\n",
    "skim_collections.event(event)\n",
    "skim_collections.end()"
   ]
  },
  {
   "cell_type": "code",
   "execution_count": 34,
   "metadata": {},
   "outputs": [
    {
     "name": "stdout",
     "output_type": "stream",
     "text": [
      "Collection('JetSelection', 'Jet', array([ True,  True, False, False, False, False, False, False,  True,\n",
      "       False,  True,  True, False, False, False, False, False,  True,\n",
      "        True, False, False, False, False,  True,  True,  True,  True,\n",
      "        True, False, False, False, False, False, False, False,  True,\n",
      "       False,  True, False,  True,  True, False, False, False, False,\n",
      "       False, False, False, False, False,  True, False,  True, False,\n",
      "       False, False, False,  True,  True, False, False, False, False,\n",
      "       False, False, False,  True,  True,  True, False, False, False,\n",
      "       False, False,  True,  True,  True, False, False, False,  True,\n",
      "       False, False, False, False, False, False, False, False,  True,\n",
      "        True,  True,  True, False, False, False, False, False,  True,\n",
      "        True, False,  True, False, False, False, False, False, False,\n",
      "        True, False, False, False, False, False, False, False, False,\n",
      "       False, False, False, False,  True, False, False, False, False,\n",
      "       False,  True, False, False,  True, False,  True, False,  True,\n",
      "       False, False, False, False, False,  True, False, False, False,\n",
      "       False, False,  True,  True,  True, False, False,  True,  True,\n",
      "       False,  True, False, False, False,  True, False, False, False,\n",
      "       False,  True, False, False,  True, False, False, False, False,\n",
      "        True, False, False, False, False,  True,  True, False, False,\n",
      "        True,  True, False, False, False, False, False,  True, False,\n",
      "       False, False,  True, False, False, False, False, False, False,\n",
      "       False, False, False, False, False, False,  True,  True, False,\n",
      "       False, False, False, False, False, False, False, False, False,\n",
      "       False, False, False, False, False, False, False, False, False,\n",
      "       False, False, False, False, False, False, False, False, False,\n",
      "       False, False, False, False, False, False, False, False, False,\n",
      "       False, False, False,  True,  True,  True, False, False, False,\n",
      "       False, False, False, False, False, False, False, False, False,\n",
      "        True, False, False, False,  True,  True, False,  True, False,\n",
      "       False, False,  True,  True, False, False, False,  True,  True,\n",
      "        True, False, False, False, False,  True,  True, False, False,\n",
      "       False,  True,  True, False, False, False, False, False, False,\n",
      "       False, False, False,  True,  True, False,  True,  True, False,\n",
      "        True,  True,  True,  True,  True,  True, False, False, False,\n",
      "       False, False, False, False, False, False, False, False, False,\n",
      "       False,  True, False, False, False, False, False, False,  True,\n",
      "        True,  True, False, False, False, False,  True,  True, False,\n",
      "       False, False, False, False, False,  True,  True, False, False,\n",
      "       False, False, False, False, False, False, False, False, False,\n",
      "       False, False, False, False, False, False, False, False, False,\n",
      "        True, False, False, False, False, False, False, False, False,\n",
      "       False, False, False, False, False, False, False, False, False,\n",
      "       False, False, False, False, False,  True,  True, False, False,\n",
      "       False, False,  True,  True,  True, False, False, False, False,\n",
      "       False, False, False, False, False, False, False, False, False,\n",
      "       False, False, False,  True, False, False, False, False, False,\n",
      "        True,  True,  True, False,  True, False, False, False, False,\n",
      "       False,  True, False, False, False, False,  True,  True,  True,\n",
      "        True, False, False, False, False,  True,  True,  True, False,\n",
      "       False, False, False, False, False, False, False, False,  True,\n",
      "        True, False,  True,  True, False, False, False, False, False, False], dtype=bool))\n"
     ]
    }
   ],
   "source": [
    "print(event.JetSelection) # Collection(name, ref_name, selection)"
   ]
  },
  {
   "cell_type": "code",
   "execution_count": 35,
   "metadata": {},
   "outputs": [
    {
     "name": "stdout",
     "output_type": "stream",
     "text": [
      "No attribute JetSelection_pt\n",
      "[[ 190.25  103.  ],\n",
      " [],\n",
      " [ 216.625    66.125    49.1875],\n",
      " ...,\n",
      " [ 273.     157.875],\n",
      " [ 191.75     43.6875],\n",
      " []]\n",
      "[[ 190.25  103.  ],\n",
      " [],\n",
      " [ 216.625    66.125    49.1875],\n",
      " ...,\n",
      " [ 273.     157.875],\n",
      " [ 191.75     43.6875],\n",
      " []]\n"
     ]
    }
   ],
   "source": [
    "try:\n",
    "    print(event.JetSelection_pt)\n",
    "except KeyError:\n",
    "    print(\"No attribute JetSelection_pt\")\n",
    "print(event.JetSelection.pt)\n",
    "print(event.JetSelection_pt)"
   ]
  },
  {
   "cell_type": "markdown",
   "metadata": {},
   "source": [
    "* A selection is applied to each object in a collection resulting in a boolean array\n",
    "    * Selections are applied as logical operations between the contents of jagged arrays: e.g. `(jet.pt > 40.) & (abs(jet.eta) < 2.4)`\n",
    "* This array is stored in the new collection along with the reference collection's name. No new arrays are created\n",
    "* When an attribute of the new collection is called:\n",
    "    * the boolean array is applied to the reference collection's attribute\n",
    "    * new starts and stops are generated\n",
    "    * a jagged array is created and cached for later use"
   ]
  },
  {
   "cell_type": "markdown",
   "metadata": {},
   "source": [
    "## Cross cleaning"
   ]
  },
  {
   "cell_type": "code",
   "execution_count": 36,
   "metadata": {},
   "outputs": [],
   "source": [
    "from sequence.sequence import jet_cross_cleaning"
   ]
  },
  {
   "cell_type": "code",
   "execution_count": 37,
   "metadata": {},
   "outputs": [],
   "source": [
    "jet_cross_cleaning.event(event)"
   ]
  },
  {
   "cell_type": "code",
   "execution_count": 38,
   "metadata": {},
   "outputs": [
    {
     "data": {
      "text/plain": [
       "jaggedarray([[ 190.25  103.  ],\n",
       "             [],\n",
       "             [ 216.625    66.125    49.1875],\n",
       "             ...,\n",
       "             [ 273.     157.875],\n",
       "             [ 191.75     43.6875],\n",
       "             []])"
      ]
     },
     "execution_count": 38,
     "metadata": {},
     "output_type": "execute_result"
    }
   ],
   "source": [
    "event.JetSelection.pt"
   ]
  },
  {
   "cell_type": "markdown",
   "metadata": {},
   "source": [
    "* Jets are removed if they overlap with muons, electron or photons with a DeltaR cone of 0.4\n",
    "* The JetSelection collection's boolean array is updated to reject these jets"
   ]
  },
  {
   "cell_type": "markdown",
   "metadata": {},
   "source": [
    "## Event selection"
   ]
  },
  {
   "cell_type": "code",
   "execution_count": 39,
   "metadata": {},
   "outputs": [],
   "source": [
    "from atuproot.EventBuilderConfigMaker import EventBuilderConfig\n",
    "\n",
    "config = EventBuilderConfig(\n",
    "    inputPaths = [datasets[0].files[0]],\n",
    "    treeName = \"Events\",\n",
    "    maxBlocks = 1,\n",
    "    start = 0,\n",
    "    blocksize = 10000,\n",
    "    dataset = datasets[0],\n",
    "    name = datasets[0].name,\n",
    ")"
   ]
  },
  {
   "cell_type": "code",
   "execution_count": 40,
   "metadata": {},
   "outputs": [],
   "source": [
    "events = BEvents(uproot.open(datasets[0].files[0])[\"Events\"], blocksize=10000, maxBlocks=1, start=0)\n",
    "event = events[0]\n",
    "event.config = config"
   ]
  },
  {
   "cell_type": "code",
   "execution_count": 41,
   "metadata": {},
   "outputs": [],
   "source": [
    "for rc in reader_collector_pairs:\n",
    "    rc[0].begin(event)\n",
    "    rc[0].event(event)\n",
    "    if hasattr(rc[0], \"end\"):\n",
    "        rc[0].end()"
   ]
  },
  {
   "cell_type": "code",
   "execution_count": 42,
   "metadata": {},
   "outputs": [
    {
     "data": {
      "text/plain": [
       "array([False, False, False, ..., False, False, False], dtype=bool)"
      ]
     },
     "execution_count": 42,
     "metadata": {},
     "output_type": "execute_result"
    }
   ],
   "source": [
    "event.Cutflow_Monojet"
   ]
  },
  {
   "cell_type": "markdown",
   "metadata": {},
   "source": [
    "* `SelectionProducer` takes a list of cuts (takes the logical and of all these selections applied to the event) and creates a boolean array\n",
    "    * The selections are applied as logical operations between arrays\n",
    "* The selection is not applied to the event and should be used with reader-collector pairs allowing for multiple cutflows in 1 run\n",
    "* If the selection reduces the number of events to a small enough value, these events can be exported into dataframes for further manipulation / plotting (e.g. machine learning\n",
    "* Currently I have a collector which histograms the arrays and then draws the distributions (standard alphatwirl aggregation tools should be fairly simple to adopt with atuproot)"
   ]
  },
  {
   "cell_type": "code",
   "execution_count": 43,
   "metadata": {},
   "outputs": [
    {
     "name": "stdout",
     "output_type": "stream",
     "text": [
      "[  72.12278748   15.13642979   59.69079971 ...,   13.005229    128.94750977\n",
      "   10.24678516]\n",
      "(10000,)\n"
     ]
    }
   ],
   "source": [
    "print(event.METnoX.pt)\n",
    "print(event.METnoX.pt.shape)"
   ]
  },
  {
   "cell_type": "code",
   "execution_count": 44,
   "metadata": {},
   "outputs": [
    {
     "name": "stdout",
     "output_type": "stream",
     "text": [
      "[False False False ..., False False False]\n",
      "(10000,)\n",
      "[[1821]\n",
      " [1851]\n",
      " [3931]\n",
      " [4003]\n",
      " [4008]\n",
      " [4086]\n",
      " [4374]\n",
      " [4601]\n",
      " [5376]\n",
      " [5431]\n",
      " [6372]\n",
      " [6610]\n",
      " [6793]\n",
      " [8794]]\n"
     ]
    }
   ],
   "source": [
    "print(event.Cutflow_Monojet)\n",
    "print(event.Cutflow_Monojet.shape)\n",
    "print(np.argwhere(event.Cutflow_Monojet))"
   ]
  },
  {
   "cell_type": "code",
   "execution_count": 45,
   "metadata": {},
   "outputs": [
    {
     "name": "stdout",
     "output_type": "stream",
     "text": [
      "[ 214.19381714  232.24787903  209.72373962  245.58346558  212.06825256\n",
      "  202.59342957  205.30673218  243.94329834  242.35726929  203.29333496\n",
      "  217.0181427   228.32463074  212.38031006  211.41416931]\n",
      "(14,)\n"
     ]
    }
   ],
   "source": [
    "print(event.METnoX.pt[event.Cutflow_Monojet])\n",
    "print(event.METnoX.pt[event.Cutflow_Monojet].shape)"
   ]
  },
  {
   "cell_type": "code",
   "execution_count": 46,
   "metadata": {},
   "outputs": [
    {
     "name": "stdout",
     "output_type": "stream",
     "text": [
      "214.194\n"
     ]
    }
   ],
   "source": [
    "print(event.METnoX.pt[1821])"
   ]
  },
  {
   "cell_type": "markdown",
   "metadata": {},
   "source": [
    "## Limitations"
   ]
  },
  {
   "cell_type": "markdown",
   "metadata": {},
   "source": [
    "1. Can use up a lot of memory\n",
    "    1. If branches are only accessed in one reader and not in any others then theres a function in `BEvents` allowing the deletion of branches from the cache\n",
    "    1. `blocksize` can be reduced to load fewer event in per block. This can reduce the performance if you ask for too few\n",
    "    1. Some samples use more memory than others. Request more memory for those samples if possible\n",
    "    1. Profile the memory usage with `memory_profiler`\n",
    "1. No support for chaining files (yet)\n",
    "    1. So far there's not support for chaining files. The number of files per process should always be 1\n",
    "    1. I've hadded my root files (into several larger files). ~300-400 files altogher = 300-400 jobs\n",
    "1. Speed\n",
    "    1. Profiling the code shows that the major bottleneck is reading in the trees with uproot (even if it is really fast)\n",
    "    1. lzma compression slows this reading process down. If possible lower the compression of your files saving uproot to do it on each run\n",
    "    1. Good side of this is that alphatwirl's readers / collectors don't impact the speed significantly. Especially with the use of numba's jit compliation\n",
    "1. Reading large root files\n",
    "    1. `uproot` creates a memory mapping of root files. Therefore files larges than ~4 GB can't be mapped on 32-bit systems (if anyone is usings these still?)\n",
    "    1. `ulimit -v` can also limit this. Especially annoying if the cluster has a hard limit on the maximum vitrual memory"
   ]
  },
  {
   "cell_type": "code",
   "execution_count": null,
   "metadata": {},
   "outputs": [],
   "source": []
  }
 ],
 "metadata": {
  "kernelspec": {
   "display_name": "Python 2",
   "language": "python",
   "name": "python2"
  },
  "language_info": {
   "codemirror_mode": {
    "name": "ipython",
    "version": 2
   },
   "file_extension": ".py",
   "mimetype": "text/x-python",
   "name": "python",
   "nbconvert_exporter": "python",
   "pygments_lexer": "ipython2",
   "version": "2.7.13"
  }
 },
 "nbformat": 4,
 "nbformat_minor": 2
}
